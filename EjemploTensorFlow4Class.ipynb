{
 "cells": [
  {
   "cell_type": "code",
   "execution_count": 32,
   "metadata": {
    "collapsed": true
   },
   "outputs": [],
   "source": [
    "import tensorflow as tf\n",
    "import numpy as np\n",
    "import random as rnd"
   ]
  },
  {
   "cell_type": "code",
   "execution_count": 33,
   "metadata": {
    "collapsed": true
   },
   "outputs": [],
   "source": [
    "import matplotlib.pyplot as plt\n",
    "%matplotlib inline"
   ]
  },
  {
   "cell_type": "markdown",
   "metadata": {},
   "source": [
    "# Ejemplo Perceptrón con sigmoide (regresión logística)"
   ]
  },
  {
   "cell_type": "code",
   "execution_count": 34,
   "metadata": {
    "collapsed": true
   },
   "outputs": [],
   "source": [
    "X=np.asarray([[0,0],[0,1],[1,0],[1,1]])\n",
    "Y=np.asarray([[0],[0],[0],[1]])"
   ]
  },
  {
   "cell_type": "markdown",
   "metadata": {},
   "source": [
    "Declaracion de variables"
   ]
  },
  {
   "cell_type": "code",
   "execution_count": 35,
   "metadata": {
    "collapsed": true
   },
   "outputs": [],
   "source": [
    "input_size=2\n",
    "output_layer_size=1\n",
    "#Los placeholders son para los datos de entrada\n",
    "x = tf.placeholder(tf.float32, [None, input_size])\n",
    "y_ = tf.placeholder(tf.float32, [None, output_layer_size]) #la y real\n",
    "#La variables para lo que se va a ir calculando y modificando en el camino\n",
    "W_layer1=tf.Variable(tf.random_uniform([input_size,output_layer_size], -1, 1), name=\"W_layer1\")\n",
    "b_layer1 = tf.Variable(tf.zeros([output_layer_size]), name=\"b_layer1\")\n"
   ]
  },
  {
   "cell_type": "markdown",
   "metadata": {},
   "source": [
    "Operaciones, grafo"
   ]
  },
  {
   "cell_type": "code",
   "execution_count": 36,
   "metadata": {
    "collapsed": true
   },
   "outputs": [],
   "source": [
    "y = tf.nn.sigmoid(tf.matmul(x,W_layer1)+b_layer1) #la de nuestra\n",
    "lossfn = tf.reduce_mean(tf.reduce_sum((y_-y)**2)) #cuadratico\n",
    "#lossfn= tf.reduce_mean(( (y_ * tf.log(y)) +  \n",
    " # ((1 - y_) * tf.log(1.0 - y)) ) * -1) # cross entropy\n",
    "train_step = tf.train.GradientDescentOptimizer(0.01).minimize(lossfn)"
   ]
  },
  {
   "cell_type": "code",
   "execution_count": 37,
   "metadata": {},
   "outputs": [
    {
     "name": "stdout",
     "output_type": "stream",
     "text": [
      "WARNING:tensorflow:From /home/ricardo/project_directory/pythonVirtualEnv1/local/lib/python2.7/site-packages/tensorflow/python/util/tf_should_use.py:175: initialize_all_variables (from tensorflow.python.ops.variables) is deprecated and will be removed after 2017-03-02.\n",
      "Instructions for updating:\n",
      "Use `tf.global_variables_initializer` instead.\n"
     ]
    }
   ],
   "source": [
    "init = tf.initialize_all_variables()\n",
    "sess = tf.Session() # tipo de sesion, puede ser interactiva\n"
   ]
  },
  {
   "cell_type": "markdown",
   "metadata": {},
   "source": [
    "Correr programa"
   ]
  },
  {
   "cell_type": "code",
   "execution_count": 38,
   "metadata": {
    "collapsed": true
   },
   "outputs": [],
   "source": [
    "sess.run(init)\n",
    "for i in range(5000):\n",
    "  sess.run(train_step, feed_dict={x: X, y_: Y})"
   ]
  },
  {
   "cell_type": "code",
   "execution_count": 39,
   "metadata": {},
   "outputs": [
    {
     "name": "stdout",
     "output_type": "stream",
     "text": [
      "[[ 0.34098524]]\n",
      "[[ 2.67373204]\n",
      " [ 2.67322111]]\n"
     ]
    }
   ],
   "source": [
    "#imprimir alguna variable\n",
    "print(sess.run(y, feed_dict={x:[[0.8,0.5]]}))\n",
    "print(sess.run(W_layer1, feed_dict={x: X, y_: Y}))"
   ]
  },
  {
   "cell_type": "markdown",
   "metadata": {},
   "source": [
    "Cuantificar Error"
   ]
  },
  {
   "cell_type": "code",
   "execution_count": 40,
   "metadata": {},
   "outputs": [
    {
     "name": "stdout",
     "output_type": "stream",
     "text": [
      "1.0\n"
     ]
    }
   ],
   "source": [
    "correct_prediction = tf.equal(tf.round(y),y_) # aca estams definiendo otras operacioes\n",
    "accuracy = tf.reduce_mean(tf.cast(correct_prediction, tf.float32))\n",
    "print(sess.run(accuracy, feed_dict={x: X, y_: Y})) # las corremos"
   ]
  },
  {
   "cell_type": "markdown",
   "metadata": {},
   "source": [
    "Visualizar Barrera de Decisión. Sacar las w del grafo de Tensorflow"
   ]
  },
  {
   "cell_type": "code",
   "execution_count": 41,
   "metadata": {
    "collapsed": true
   },
   "outputs": [],
   "source": [
    "w=[sess.run(b_layer1, feed_dict={x: X, y_: Y})[0]]+[i[0] for i in sess.run(W_layer1, feed_dict={x: X, y_: Y})]"
   ]
  },
  {
   "cell_type": "markdown",
   "metadata": {},
   "source": [
    "Donde vale $X_1$ cero y donde $X_2$ vale cero? $w_0+w_1X_1+w_2X_2 =0$. $X_1=\\frac{-w_2X_2-w_0}{w_1}$ y $X_2=\\frac{-w_1X_1-w_0}{w_2}$"
   ]
  },
  {
   "cell_type": "markdown",
   "metadata": {},
   "source": [
    "Buscamos una recta que pasa por $\\left(0,\\frac{-w_0}{w_2}\\right)$ y $\\left(\\frac{-w_0}{w_1},0\\right)$, la pendiente es $\\frac{\\frac{-w_0}{w_2}-0}{0-\\frac{-w_0}{w_1}}=\\frac{-w_1}{w_2}$ \n",
    "La ordenada $y-y_1=m(x-x_1)$ es $y-\\frac{-w_0}{w_2}=\\frac{-w_1}{w_2} x$, $y=\\frac{-w_1}{w_2} x+\\frac{-w_0}{w_2}$\n"
   ]
  },
  {
   "cell_type": "code",
   "execution_count": 42,
   "metadata": {},
   "outputs": [
    {
     "name": "stdout",
     "output_type": "stream",
     "text": [
      "1.54634 1.54664 -1.00019\n"
     ]
    }
   ],
   "source": [
    "m=((w[0]/w[2]))/((-w[0]/w[1]))\n",
    "print -w[0]/w[1], -w[0]/w[2], m"
   ]
  },
  {
   "cell_type": "code",
   "execution_count": 43,
   "metadata": {},
   "outputs": [
    {
     "data": {
      "text/plain": [
       "(-5.2, 5.2)"
      ]
     },
     "execution_count": 43,
     "metadata": {},
     "output_type": "execute_result"
    },
    {
     "data": {
      "image/png": "[encoded data removed]",
      "text/plain": [
       "<matplotlib.figure.Figure at 0x7f2c6e2e4a90>"
      ]
     },
     "metadata": {},
     "output_type": "display_data"
    }
   ],
   "source": [
    "plt.scatter(X[:,0],X[:,1],c=['red' if i==1 else 'blue' for i in Y])\n",
    "x2 = np.linspace(-5.2,5.2,100) # 100 numeros espaciados\n",
    "plt.plot(x2,-w[0]/w[2]+m*x2,color='red')\n",
    "plt.ylim([-5.2,5.2])\n",
    "plt.xlim([-5.2,5.2])"
   ]
  },
  {
   "cell_type": "code",
   "execution_count": 44,
   "metadata": {
    "collapsed": true
   },
   "outputs": [],
   "source": [
    "sess.close()"
   ]
  },
  {
   "cell_type": "code",
   "execution_count": 45,
   "metadata": {
    "collapsed": true
   },
   "outputs": [],
   "source": [
    "# Ejemplo XOR function\n",
    "X=np.asarray([[0,0],[0,1],[1,0],[1,1]])\n",
    "Y=np.asarray([[0],[1],[1],[0]])"
   ]
  },
  {
   "cell_type": "code",
   "execution_count": 46,
   "metadata": {
    "collapsed": true
   },
   "outputs": [],
   "source": [
    "input_size_layer1=2\n",
    "number_hidden_nodes = 2\n",
    "#Los placeholders son para los datos de entrada\n",
    "x = tf.placeholder(tf.float32, [None, input_size_layer1])\n",
    "y_ = tf.placeholder(tf.float32, [None, 1]) #la y real\n",
    "#La variables para lo que se va a ir calculando y modificando en el camino\n",
    "W=tf.Variable(tf.random_uniform([input_size_layer1,2], -1, 1), name=\"W_layer1\")\n",
    "b = tf.Variable(tf.zeros([2]))\n",
    "hidden_layer= tf.nn.sigmoid(tf.matmul(x,W)+b) "
   ]
  },
  {
   "cell_type": "code",
   "execution_count": 47,
   "metadata": {
    "collapsed": true
   },
   "outputs": [],
   "source": [
    "W2=tf.Variable(tf.random_uniform([2,1], -1, 1), name=\"W_layer2\")\n",
    "b2 = tf.Variable(tf.zeros([1]))\n",
    "out_put_layer = tf.nn.sigmoid(tf.matmul(hidden_layer,W2)+b2) \n",
    "lossfn = tf.reduce_mean(tf.reduce_sum((y_-out_put_layer)**2))\n",
    "train_step = tf.train.GradientDescentOptimizer(0.01).minimize(lossfn)"
   ]
  },
  {
   "cell_type": "code",
   "execution_count": 48,
   "metadata": {
    "collapsed": true
   },
   "outputs": [],
   "source": [
    "init = tf.global_variables_initializer()\n",
    "sess = tf.Session() # tipo de sesion, puede ser interactiva"
   ]
  },
  {
   "cell_type": "code",
   "execution_count": 49,
   "metadata": {
    "collapsed": true
   },
   "outputs": [],
   "source": [
    "sess.run(init)\n",
    "for i in range(50000):\n",
    "  sess.run(train_step, feed_dict={x: X, y_: Y})"
   ]
  },
  {
   "cell_type": "code",
   "execution_count": 50,
   "metadata": {},
   "outputs": [
    {
     "name": "stdout",
     "output_type": "stream",
     "text": [
      "1.0\n"
     ]
    }
   ],
   "source": [
    "correct_prediction = tf.equal(tf.round(out_put_layer),y_) # aca estams definiendo otras operacioes\n",
    "accuracy = tf.reduce_mean(tf.cast(correct_prediction, tf.float32))\n",
    "print(sess.run(accuracy, feed_dict={x: X, y_: Y})) # las corremos"
   ]
  },
  {
   "cell_type": "code",
   "execution_count": 89,
   "metadata": {
    "collapsed": true
   },
   "outputs": [],
   "source": [
    "sess.close()"
   ]
  },
  {
   "cell_type": "code",
   "execution_count": 90,
   "metadata": {
    "collapsed": true
   },
   "outputs": [],
   "source": [
    "#ahora vamos a hacer la red neuronal para el circulo"
   ]
  },
  {
   "cell_type": "code",
   "execution_count": 91,
   "metadata": {
    "scrolled": true
   },
   "outputs": [
    {
     "data": {
      "image/png": "[encoded data removed]",
      "text/plain": [
       "<matplotlib.figure.Figure at 0x7f2c61687f50>"
      ]
     },
     "metadata": {},
     "output_type": "display_data"
    }
   ],
   "source": [
    "radius_of_circle = 1000\n",
    "x_center = 5\n",
    "y_center = 5\n",
    "n = 5000\n",
    "X = np.asarray([rnd.randint(-n,n) for i in range(n*2)]).reshape(n,2)\n",
    "Y = np.array([[(1 if ((X[i][0]-x_center)**2)+((X[i][1]-y_center)**2)<=(radius_of_circle**2) else 0)] for i in range(len(X))])\n",
    "plt.scatter(X[:,0], X[:,1], c=Y)\n",
    "plt.show()"
   ]
  },
  {
   "cell_type": "code",
   "execution_count": 92,
   "metadata": {
    "collapsed": true
   },
   "outputs": [],
   "source": [
    "def NNFun(number_hidden_nodes, lambd):\n",
    "    radius_of_circle = 1000\n",
    "    x_center = 5\n",
    "    y_center = 5\n",
    "    n = 5000\n",
    "    X = np.asarray([rnd.randint(-n,n) for i in range(n*2)]).reshape(n,2)\n",
    "    Y = np.array([[(1 if ((X[i][0]-x_center)**2)+((X[i][1]-y_center)**2)<=(radius_of_circle**2) else 0)] for i in range(len(X))])\n",
    "    input_size_layer1=2\n",
    "    output_size_layer1 = 1\n",
    "    #Los placeholders son para los datos de entrada\n",
    "    x = tf.placeholder(tf.float32, [None, input_size_layer1])\n",
    "    y_ = tf.placeholder(tf.float32, [None, output_size_layer1]) #la y real\n",
    "    \n",
    "    #La variables para lo que se va a ir calculando y modificando en el camino\n",
    "    W=tf.Variable(tf.random_uniform([input_size_layer1,number_hidden_nodes], -1, 1), name=\"W_layer1\")\n",
    "    b = tf.Variable(tf.zeros([number_hidden_nodes]), name = \"b_layer1\")\n",
    "    \n",
    "    hidden_layer= tf.nn.sigmoid(tf.matmul(x,W)+b) \n",
    "    \n",
    "    W2=tf.Variable(tf.random_uniform([number_hidden_nodes,output_size_layer1], -1, 1), name=\"W_layer2\")\n",
    "    b2 = tf.Variable(tf.zeros([output_size_layer1]), name = \"b_layer2\")\n",
    "    \n",
    "    out_put_layer = tf.nn.sigmoid(tf.matmul(hidden_layer,W2)+b2) \n",
    "    \n",
    "    lossfn = tf.reduce_mean(tf.reduce_sum((y_-out_put_layer)**2))\n",
    "    train_step = tf.train.GradientDescentOptimizer(lambd).minimize(lossfn)\n",
    "    \n",
    "    init = tf.global_variables_initializer()\n",
    "    sess = tf.Session() # tipo de sesion, puede ser interactiva\n",
    "    sess.run(init)\n",
    "    \n",
    "    for i in range(5000):\n",
    "      sess.run(train_step, feed_dict={x: X, y_: Y})\n",
    "    \n",
    "    correct_prediction = tf.equal(tf.round(out_put_layer),y_) # aca estams definiendo otras operacioes\n",
    "    accuracy = tf.reduce_mean(tf.cast(correct_prediction, tf.float32))\n",
    "    print(sess.run(accuracy, feed_dict={x: X, y_: Y})) # las corremos\n",
    "    sess.close()"
   ]
  },
  {
   "cell_type": "code",
   "execution_count": 119,
   "metadata": {},
   "outputs": [
    {
     "name": "stdout",
     "output_type": "stream",
     "text": [
      "0.9664\n",
      "0.9678\n",
      "0.9602\n",
      "0.9692\n",
      "0.966\n",
      "0.9696\n",
      "0.9678\n",
      "0.9676\n",
      "0.9676\n",
      "0.9716\n",
      "0.9686\n",
      "0.9694\n",
      "0.9662\n",
      "0.9674\n",
      "0.9748\n",
      "0.9696\n",
      "0.9682\n",
      "0.9646\n",
      "0.9682\n"
     ]
    }
   ],
   "source": [
    "Error = np.array([NNFun(i,0.05) for i in range(1,20)])"
   ]
  }
 ],
 "metadata": {
  "kernelspec": {
   "display_name": "Python 2",
   "language": "python",
   "name": "python2"
  },
  "language_info": {
   "codemirror_mode": {
    "name": "ipython",
    "version": 2
   },
   "file_extension": ".py",
   "mimetype": "text/x-python",
   "name": "python",
   "nbconvert_exporter": "python",
   "pygments_lexer": "ipython2",
   "version": "2.7.12"
  }
 },
 "nbformat": 4,
 "nbformat_minor": 1
}
